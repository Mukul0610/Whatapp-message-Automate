{
 "cells": [
  {
   "cell_type": "code",
   "execution_count": 1,
   "id": "d6d87a38",
   "metadata": {
    "scrolled": true
   },
   "outputs": [
    {
     "name": "stdout",
     "output_type": "stream",
     "text": [
      "Collecting pywhatkit\n",
      "  Downloading pywhatkit-5.4-py3-none-any.whl (15 kB)\n",
      "Collecting wikipedia\n",
      "  Downloading wikipedia-1.4.0.tar.gz (27 kB)\n",
      "  Preparing metadata (setup.py): started\n",
      "  Preparing metadata (setup.py): finished with status 'done'\n",
      "Requirement already satisfied: Flask in c:\\users\\mukul\\anaconda3\\lib\\site-packages (from pywhatkit) (1.1.2)\n",
      "Collecting pyautogui\n",
      "  Downloading PyAutoGUI-0.9.54.tar.gz (61 kB)\n",
      "     ---------------------------------------- 61.2/61.2 kB 1.6 MB/s eta 0:00:00\n",
      "  Installing build dependencies: started\n",
      "  Installing build dependencies: finished with status 'done'\n",
      "  Getting requirements to build wheel: started\n",
      "  Getting requirements to build wheel: finished with status 'done'\n",
      "  Preparing metadata (pyproject.toml): started\n",
      "  Preparing metadata (pyproject.toml): finished with status 'done'\n",
      "Requirement already satisfied: requests in c:\\users\\mukul\\anaconda3\\lib\\site-packages (from pywhatkit) (2.28.1)\n",
      "Requirement already satisfied: Pillow in c:\\users\\mukul\\anaconda3\\lib\\site-packages (from pywhatkit) (9.2.0)\n",
      "Requirement already satisfied: itsdangerous>=0.24 in c:\\users\\mukul\\anaconda3\\lib\\site-packages (from Flask->pywhatkit) (2.0.1)\n",
      "Requirement already satisfied: Werkzeug>=0.15 in c:\\users\\mukul\\anaconda3\\lib\\site-packages (from Flask->pywhatkit) (2.0.3)\n",
      "Requirement already satisfied: Jinja2>=2.10.1 in c:\\users\\mukul\\anaconda3\\lib\\site-packages (from Flask->pywhatkit) (2.11.3)\n",
      "Requirement already satisfied: click>=5.1 in c:\\users\\mukul\\anaconda3\\lib\\site-packages (from Flask->pywhatkit) (8.0.4)\n",
      "Collecting pytweening>=1.0.4\n",
      "  Downloading pytweening-1.2.0.tar.gz (171 kB)\n",
      "     ------------------------------------ 171.2/171.2 kB 542.1 kB/s eta 0:00:00\n",
      "  Preparing metadata (setup.py): started\n",
      "  Preparing metadata (setup.py): finished with status 'done'\n",
      "Collecting pymsgbox\n",
      "  Downloading PyMsgBox-1.0.9.tar.gz (18 kB)\n",
      "  Installing build dependencies: started\n",
      "  Installing build dependencies: finished with status 'done'\n",
      "  Getting requirements to build wheel: started\n",
      "  Getting requirements to build wheel: finished with status 'done'\n",
      "  Preparing metadata (pyproject.toml): started\n",
      "  Preparing metadata (pyproject.toml): finished with status 'done'\n",
      "Collecting pygetwindow>=0.0.5\n",
      "  Downloading PyGetWindow-0.0.9.tar.gz (9.7 kB)\n",
      "  Preparing metadata (setup.py): started\n",
      "  Preparing metadata (setup.py): finished with status 'done'\n",
      "Collecting pyscreeze>=0.1.21\n",
      "  Downloading PyScreeze-0.1.30.tar.gz (27 kB)\n",
      "  Installing build dependencies: started\n",
      "  Installing build dependencies: finished with status 'done'\n",
      "  Getting requirements to build wheel: started\n",
      "  Getting requirements to build wheel: finished with status 'done'\n",
      "  Preparing metadata (pyproject.toml): started\n",
      "  Preparing metadata (pyproject.toml): finished with status 'done'\n",
      "Collecting mouseinfo\n",
      "  Downloading MouseInfo-0.1.3.tar.gz (10 kB)\n",
      "  Preparing metadata (setup.py): started\n",
      "  Preparing metadata (setup.py): finished with status 'done'\n",
      "Requirement already satisfied: urllib3<1.27,>=1.21.1 in c:\\users\\mukul\\anaconda3\\lib\\site-packages (from requests->pywhatkit) (1.26.11)\n",
      "Requirement already satisfied: idna<4,>=2.5 in c:\\users\\mukul\\anaconda3\\lib\\site-packages (from requests->pywhatkit) (3.3)\n",
      "Requirement already satisfied: charset-normalizer<3,>=2 in c:\\users\\mukul\\anaconda3\\lib\\site-packages (from requests->pywhatkit) (2.0.4)\n",
      "Requirement already satisfied: certifi>=2017.4.17 in c:\\users\\mukul\\anaconda3\\lib\\site-packages (from requests->pywhatkit) (2022.12.7)\n",
      "Requirement already satisfied: beautifulsoup4 in c:\\users\\mukul\\anaconda3\\lib\\site-packages (from wikipedia->pywhatkit) (4.11.1)\n",
      "Requirement already satisfied: colorama in c:\\users\\mukul\\anaconda3\\lib\\site-packages (from click>=5.1->Flask->pywhatkit) (0.4.5)\n",
      "Requirement already satisfied: MarkupSafe>=0.23 in c:\\users\\mukul\\anaconda3\\lib\\site-packages (from Jinja2>=2.10.1->Flask->pywhatkit) (2.0.1)\n",
      "Collecting pyrect\n",
      "  Downloading PyRect-0.2.0.tar.gz (17 kB)\n",
      "  Preparing metadata (setup.py): started\n",
      "  Preparing metadata (setup.py): finished with status 'done'\n",
      "Requirement already satisfied: soupsieve>1.2 in c:\\users\\mukul\\anaconda3\\lib\\site-packages (from beautifulsoup4->wikipedia->pywhatkit) (2.3.1)\n",
      "Collecting pyperclip\n",
      "  Downloading pyperclip-1.9.0.tar.gz (20 kB)\n",
      "  Preparing metadata (setup.py): started\n",
      "  Preparing metadata (setup.py): finished with status 'done'\n",
      "Building wheels for collected packages: pyautogui, wikipedia, pygetwindow, pyscreeze, pytweening, mouseinfo, pymsgbox, pyperclip, pyrect\n",
      "  Building wheel for pyautogui (pyproject.toml): started\n",
      "  Building wheel for pyautogui (pyproject.toml): finished with status 'done'\n",
      "  Created wheel for pyautogui: filename=PyAutoGUI-0.9.54-py3-none-any.whl size=37598 sha256=2144767f7ab655a7335d22a4b06bea7153548090a0a5804954dba40c37f0b356\n",
      "  Stored in directory: c:\\users\\mukul\\appdata\\local\\pip\\cache\\wheels\\29\\2b\\5f\\9df8525a15d14d1a3ba04fe66e5bd3d2dc8ca7f5fb2ab2ec50\n",
      "  Building wheel for wikipedia (setup.py): started\n",
      "  Building wheel for wikipedia (setup.py): finished with status 'done'\n",
      "  Created wheel for wikipedia: filename=wikipedia-1.4.0-py3-none-any.whl size=11680 sha256=c69a15d618726f0a93a691cab524ff0e8881891080a004704657f243c6d69eca\n",
      "  Stored in directory: c:\\users\\mukul\\appdata\\local\\pip\\cache\\wheels\\c2\\46\\f4\\caa1bee71096d7b0cdca2f2a2af45cacf35c5760bee8f00948\n",
      "  Building wheel for pygetwindow (setup.py): started\n",
      "  Building wheel for pygetwindow (setup.py): finished with status 'done'\n",
      "  Created wheel for pygetwindow: filename=PyGetWindow-0.0.9-py3-none-any.whl size=11063 sha256=ad03fe6d5af15f7f4102e49d27437c86e3c92825cf9fff8720f6a46152d0f70e\n",
      "  Stored in directory: c:\\users\\mukul\\appdata\\local\\pip\\cache\\wheels\\44\\ab\\20\\423c3a444793767e4e41f8377bc902f77bee212e68dcce85a5\n",
      "  Building wheel for pyscreeze (pyproject.toml): started\n",
      "  Building wheel for pyscreeze (pyproject.toml): finished with status 'done'\n",
      "  Created wheel for pyscreeze: filename=PyScreeze-0.1.30-py3-none-any.whl size=14399 sha256=2c199a0c71c7cca1a6a046064d5f445178e5e450541dcb6a6d4f2cf0153fe0ee\n",
      "  Stored in directory: c:\\users\\mukul\\appdata\\local\\pip\\cache\\wheels\\57\\ef\\26\\25869f8f3fbfc108d6d5a50f57184291825caedc8ab1eaa1d6\n",
      "  Building wheel for pytweening (setup.py): started\n",
      "  Building wheel for pytweening (setup.py): finished with status 'done'\n",
      "  Created wheel for pytweening: filename=pytweening-1.2.0-py3-none-any.whl size=8010 sha256=92553b9b8844b06927b0a9cbb8f97cc3651091700452fc62f741b5d3719fdb60\n",
      "  Stored in directory: c:\\users\\mukul\\appdata\\local\\pip\\cache\\wheels\\eb\\48\\3d\\ded50b5e7d57738e4bd3ee314e537f4f646328aeaef51d2619\n",
      "  Building wheel for mouseinfo (setup.py): started\n",
      "  Building wheel for mouseinfo (setup.py): finished with status 'done'\n",
      "  Created wheel for mouseinfo: filename=MouseInfo-0.1.3-py3-none-any.whl size=10891 sha256=c393eed59c8ff4feadc19267313342ba35cabcc15814edf1a454c95ecf739332\n",
      "  Stored in directory: c:\\users\\mukul\\appdata\\local\\pip\\cache\\wheels\\61\\73\\b9\\6fb1131ab36e650206e3aa0ad7a68907b41b32ac2d4f75f543\n",
      "  Building wheel for pymsgbox (pyproject.toml): started\n",
      "  Building wheel for pymsgbox (pyproject.toml): finished with status 'done'\n",
      "  Created wheel for pymsgbox: filename=PyMsgBox-1.0.9-py3-none-any.whl size=7417 sha256=a8ae080acd5d2f0c6d127ca74b3a3e509be9dee795bbd9f11effc2b439dbc93b\n",
      "  Stored in directory: c:\\users\\mukul\\appdata\\local\\pip\\cache\\wheels\\7f\\13\\8c\\584c519464297d9637f9cd29fd1dcdf55e2a2cab225c76a2db\n",
      "  Building wheel for pyperclip (setup.py): started\n",
      "  Building wheel for pyperclip (setup.py): finished with status 'done'\n",
      "  Created wheel for pyperclip: filename=pyperclip-1.9.0-py3-none-any.whl size=11002 sha256=a33a297ff7a84da2211726119bc5c3ffdc435297adb1fc288cdbd4676d85d527\n",
      "  Stored in directory: c:\\users\\mukul\\appdata\\local\\pip\\cache\\wheels\\b2\\12\\87\\f136269baa23c0afc652d05f3bd48834f4f6658b42365036c7\n",
      "  Building wheel for pyrect (setup.py): started\n",
      "  Building wheel for pyrect (setup.py): finished with status 'done'\n",
      "  Created wheel for pyrect: filename=PyRect-0.2.0-py2.py3-none-any.whl size=11179 sha256=b968ca9acca0f6c82463934c12453dd80a44b11f5e5628201b48d30a60e6f51f\n",
      "  Stored in directory: c:\\users\\mukul\\appdata\\local\\pip\\cache\\wheels\\25\\80\\fa\\27bb4a1c2e21f64ec71390489d52e57b7cc8afbe79bd595c5e\n",
      "Successfully built pyautogui wikipedia pygetwindow pyscreeze pytweening mouseinfo pymsgbox pyperclip pyrect\n",
      "Installing collected packages: pytweening, pyrect, pyperclip, pymsgbox, pyscreeze, pygetwindow, mouseinfo, wikipedia, pyautogui, pywhatkit\n",
      "Successfully installed mouseinfo-0.1.3 pyautogui-0.9.54 pygetwindow-0.0.9 pymsgbox-1.0.9 pyperclip-1.9.0 pyrect-0.2.0 pyscreeze-0.1.30 pytweening-1.2.0 pywhatkit-5.4 wikipedia-1.4.0\n",
      "Note: you may need to restart the kernel to use updated packages.\n"
     ]
    }
   ],
   "source": [
    "!pip install pywhatkit"
   ]
  },
  {
   "cell_type": "code",
   "execution_count": 17,
   "id": "5c9238d5",
   "metadata": {},
   "outputs": [],
   "source": [
    "import pandas as pd\n",
    "import pywhatkit as kit\n",
    "import time\n",
    "import os"
   ]
  },
  {
   "cell_type": "code",
   "execution_count": null,
   "id": "a7293093",
   "metadata": {},
   "outputs": [],
   "source": [
    "#If your file file extension is .xlsx then uncomment it\n",
    "\n",
    "# df = pd.read_excel(\"mailing.xlsx\")\n",
    "# df.to_csv(\"messages.csv\", index=False)"
   ]
  },
  {
   "cell_type": "code",
   "execution_count": 34,
   "id": "605ae9d3",
   "metadata": {},
   "outputs": [
    {
     "name": "stdout",
     "output_type": "stream",
     "text": [
      "All messages sent!\n"
     ]
    }
   ],
   "source": [
    "#if you don't want to check wether previosly this message is sended or not then use this script\n",
    "#df = pd.read_csv('messages.csv')\n",
    "\n",
    "# Define the required columns\n",
    "#phone_column = 'Phone'  # Replace with the name of the column that contains the phone numbers\n",
    "#message_column = 'Message'  # Replace with the name of the column that contains the messages\n",
    "\n",
    "\n",
    "\n",
    "\n",
    "# Iterate over each row in the DataFrame\n",
    "# for index, row in df.iterrows():\n",
    "#     phone_number = row[phone_column]\n",
    "#     message_text = row[message_column]\n",
    "    \n",
    "#     # Send the WhatsApp message\n",
    "#     kit.sendwhatmsg_instantly(f\"+{phone_number}\", message_text, 10, True, 10)\n",
    "    \n",
    "#     # Wait for a few seconds before sending the next message to avoid being blocked\n",
    "#     time.sleep(5)\n",
    "\n",
    "# print(\"All messages sent!\")\n",
    "\n"
   ]
  },
  {
   "cell_type": "code",
   "execution_count": null,
   "id": "530f08cc",
   "metadata": {},
   "outputs": [],
   "source": [
    "# File paths\n",
    "message_file = 'messages.csv'\n",
    "log_file = 'sent_log.csv'"
   ]
  },
  {
   "cell_type": "code",
   "execution_count": null,
   "id": "a391a7c8",
   "metadata": {},
   "outputs": [],
   "source": [
    "# Load the message file\n",
    "df = pd.read_csv(message_file)"
   ]
  },
  {
   "cell_type": "code",
   "execution_count": null,
   "id": "cdfb37aa",
   "metadata": {},
   "outputs": [],
   "source": [
    "# Check if the log file exists; if not, create it\n",
    "if not os.path.exists(log_file):\n",
    "    log_df = pd.DataFrame(columns=['Phone', 'Message', 'Timestamp'])\n",
    "    log_df.to_csv(log_file, index=False)\n",
    "else:\n",
    "    log_df = pd.read_csv(log_file)"
   ]
  },
  {
   "cell_type": "code",
   "execution_count": null,
   "id": "d3dbc637",
   "metadata": {},
   "outputs": [],
   "source": [
    "# Define the required columns\n",
    "phone_column = 'Phone'  # Column containing phone numbers\n",
    "message_column = 'Message'  # Column containing messages"
   ]
  },
  {
   "cell_type": "code",
   "execution_count": 71,
   "id": "e551644a",
   "metadata": {},
   "outputs": [
    {
     "name": "stdout",
     "output_type": "stream",
     "text": [
      "Message to 919302893948 already sent, skipping.\n",
      "Message to 919808494950 already sent, skipping.\n",
      "Message to 919827544328 already sent, skipping.\n",
      "Message to 918360678667 already sent, skipping.\n",
      "All messages processed!\n"
     ]
    }
   ],
   "source": [
    "# Iterate over each row in the message DataFrame\n",
    "for index, row in df.iterrows():\n",
    "    phone_number = row[phone_column]\n",
    "    message_text = row[message_column]\n",
    "    \n",
    "    # Check if the message has already been sent to this number\n",
    "    if ((log_df['Phone'] == phone_number) & (log_df['Message'] == message_text)).any():\n",
    "        print(f\"Message to {phone_number} already sent, skipping.\")\n",
    "        continue\n",
    "    \n",
    "    # Send the WhatsApp message\n",
    "    kit.sendwhatmsg_instantly(f\"+{phone_number}\", message_text, 10, True, 10)\n",
    "    \n",
    "    # Log the sent message\n",
    "    new_log_entry = {'Phone': phone_number, 'Message': message_text, 'Timestamp': time.strftime('%Y-%m-%d %H:%M:%S')}\n",
    "    log_df = log_df.append(new_log_entry, ignore_index=True)\n",
    "    \n",
    "    # Save the updated log to the log file\n",
    "    log_df.to_csv(log_file, index=False)\n",
    "    \n",
    "    # Wait for a few seconds before sending the next message to avoid being blocked\n",
    "    time.sleep(5)"
   ]
  }
 ],
 "metadata": {
  "kernelspec": {
   "display_name": "Python 3 (ipykernel)",
   "language": "python",
   "name": "python3"
  },
  "language_info": {
   "codemirror_mode": {
    "name": "ipython",
    "version": 3
   },
   "file_extension": ".py",
   "mimetype": "text/x-python",
   "name": "python",
   "nbconvert_exporter": "python",
   "pygments_lexer": "ipython3",
   "version": "3.9.13"
  }
 },
 "nbformat": 4,
 "nbformat_minor": 5
}
